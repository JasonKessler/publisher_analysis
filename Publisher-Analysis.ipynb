{
 "cells": [
  {
   "cell_type": "code",
   "execution_count": 11,
   "metadata": {},
   "outputs": [
    {
     "data": {
      "text/html": [
       "<style>.container { width:98% !important; }</style>"
      ],
      "text/plain": [
       "<IPython.core.display.HTML object>"
      ]
     },
     "metadata": {},
     "output_type": "display_data"
    }
   ],
   "source": [
    "import pandas as pd\n",
    "import numpy as np\n",
    "import sys\n",
    "import umap\n",
    "import spacy\n",
    "import json\n",
    "import datetime\n",
    "import zipfile\n",
    "import scipy.stats\n",
    "import scattertext as st\n",
    "from sklearn.decomposition import PCA\n",
    "from gensim.models import word2vec\n",
    "import re\n",
    "from glob import glob\n",
    "from scipy.stats import rankdata\n",
    "from IPython.display import IFrame\n",
    "from IPython.core.display import display, HTML\n",
    "display(HTML(\"<style>.container { width:98% !important; }</style>\"))\n",
    "import matplotlib.pyplot as plt"
   ]
  },
  {
   "cell_type": "code",
   "execution_count": 2,
   "metadata": {},
   "outputs": [],
   "source": [
    "zf = zipfile.ZipFile('2_May.zip')"
   ]
  },
  {
   "cell_type": "code",
   "execution_count": 3,
   "metadata": {},
   "outputs": [],
   "source": [
    "data = []\n",
    "for filename in zf.filelist:\n",
    "    j = json.load(zf.open(filename))\n",
    "    data.append({field:j[field] for field in ['content', 'link', 'published', 'author', 'title', 'source']})\n",
    "df = pd.DataFrame(data)"
   ]
  },
  {
   "cell_type": "code",
   "execution_count": 4,
   "metadata": {},
   "outputs": [],
   "source": [
    "df['parsed'] = df['content'].apply(st.whitespace_nlp_with_sentences)"
   ]
  },
  {
   "cell_type": "code",
   "execution_count": 5,
   "metadata": {},
   "outputs": [],
   "source": [
    "corpus = st.CorpusFromParsedDocuments(df, parsed_col='parsed', category_col='source').build().get_unigram_corpus()"
   ]
  },
  {
   "cell_type": "code",
   "execution_count": 7,
   "metadata": {},
   "outputs": [],
   "source": [
    "publisher_metadata = corpus.use_categories_as_metadata()"
   ]
  },
  {
   "cell_type": "code",
   "execution_count": 27,
   "metadata": {},
   "outputs": [],
   "source": [
    "embeddings = publisher_metadata.get_term_freq_df('').values.astype('f')\n",
    "embeddings = (embeddings - embeddings.mean(axis=1)[:,None])/embeddings.var(axis=1)[:,None]\n",
    "pca_proj = PCA(n_components=20).fit_transform(embeddings.T)\n"
   ]
  },
  {
   "cell_type": "code",
   "execution_count": 29,
   "metadata": {
    "scrolled": true
   },
   "outputs": [
    {
     "data": {
      "text/html": [
       "\n",
       "        <iframe\n",
       "            width=\"1400\"\n",
       "            height=\"900\"\n",
       "            src=\"publisher_projection_0_1.html\"\n",
       "            frameborder=\"0\"\n",
       "            allowfullscreen\n",
       "        ></iframe>\n",
       "        "
      ],
      "text/plain": [
       "<IPython.lib.display.IFrame at 0x27c8c5748>"
      ]
     },
     "execution_count": 29,
     "metadata": {},
     "output_type": "execute_result"
    }
   ],
   "source": [
    "projection = pd.DataFrame({'term': publisher_metadata.get_metadata(), 'x': pca_proj.T[0], 'y': pca_proj.T[1]}).set_index('term')\n",
    "html = st.produce_pca_explorer(publisher_metadata, \n",
    "                               category='BBC', \n",
    "                               show_axes=False, \n",
    "                               use_non_text_features=True, \n",
    "                               show_top_terms=False, \n",
    "                               projection=projection,\n",
    "                               max_docs_per_category=100)\n",
    "file_name = 'publisher_projection_0_1.html'\n",
    "open(file_name,'w').write(html)\n",
    "IFrame(src=file_name, width = 1400, height=900)"
   ]
  },
  {
   "cell_type": "code",
   "execution_count": 37,
   "metadata": {},
   "outputs": [
    {
     "name": "stdout",
     "output_type": "stream",
     "text": [
      "Activist Post\n",
      "['catherine', 'holistic', 'amazon', 'helmets', 'smart', 'soros', 'nsa', 'books', 'com', 'meters']\n",
      "Addicting Info\n",
      "['â', 'jackson', 'twitter', 'yates', 'fired', 'healthcare', 'donald', 'flynn', 'dickerson', 'trump']\n",
      "Alternative Media Syndicate\n",
      "['pipeline', 'dakota', 'spill', 'merck', 'ancient', 'honey', 'tribe', 'environmental', 'oil', 'spills']\n",
      "AP\n",
      "['ap', 'photo', 'associated', 'arabia', 'saudi', 'king', 'leaders', 'riyadh', 'quantico', 'trip']\n",
      "BBC\n",
      "['bbc', 'league', 'uk', 'season', 'ms', 'players', 'final', 'mr', 'says', 'macron']\n",
      "Bipartisan Report\n",
      "['tweet', 'apparently', 'however', 'yates', 'twitter', 'flynn', 'page', 'fact', 'ties', 'regarding']\n",
      "Breitbart\n",
      "['breitbart', 'texas', 'follow', 'israel', 'immigration', 'jerusalem', 'reported', 'county', 'twitter', 'percent']\n",
      "Business Insider\n",
      "['xi', 'transcript', 'murray', 'zuma', 'hett', 'china', 'trade', 'macron', 'rules', 'cruz']\n",
      "CBS News\n",
      "['cbs', 'p', 'clapper', 'dickerson', 'yates', 'mr', 'm', 'sen', 'john', 'reports']\n",
      "CNBC\n",
      "['nbc', 'nixon', 'cnbc', 'growth', 'cbo', 'wednesday', 'tax', 'thursday', 'obamacare', 'health']\n",
      "CNN\n",
      "['cnn', 'yates', 'trip', 'adviser', 'pence', 'muslim', 'air', 'flynn', 'official', 'us']\n",
      "CNS News\n",
      "['cnsnews', 'gender', 'transgender', 'god', 'abortion', 'un', 'com', 'e', '*', 'peacekeeping']\n",
      "Conservative Tribune\n",
      "['facebook', 'share', 'twitter', 'please', 'waters', 'democrat', 'korea', 'stated', 'let', 'north']\n",
      "Counter Current News\n",
      "['cannabis', 'hemp', 'pipeline', 'dakota', 'oil', 'abuse', 'vaccination', 'incident', 'officer', 'church']\n",
      "Daily Buzz Live\n",
      "['hartfield', 'ayala', 'fiat', 'hummingbirds', 'crossett', 'atty', 'dist', 'genesee', 'colantonio', 'fries']\n",
      "Daily Kos\n",
      "['kos', 'ones', 'voting', 'healthcare', 'unless', 'otherwise', 'gop', 'party', 'trademarks', 'specified']\n",
      "Daily Mail\n",
      "['melania', '*', 'spicer', 'colbert', 'trip', 'nato', 'minister', 'visit', 'prime', 'rosenstein']\n",
      "Daily Stormer\n",
      "['jew', 'jews', 'orleans', 'whites', 'jewish', 'blacks', 'gym', 'hate', 'antifa', 'holocaust']\n",
      "Faking News\n",
      "['faking', 'sachin', 'delhi', 'mumbai', 'arnab', 'ankit', 'ipl', 'tez', 'modi', 'umesh']\n",
      "Fox News\n",
      "['fox', 'contributed', 'kushner', 'sunday', 'trade', 'arabia', 'korea', 'saudi', 'report', 'chris']\n",
      "Freedom Daily\n",
      "['michelle', 'lady', 'liberals', 'melania', 'woman', 'liberal', 'barack', 'muslim', 'her', 'hussein']\n",
      "Freedom Outpost\n",
      "['parenthood', 'germany', 'debt', 'amash', 'planned', 'puerto', 'rico', 'pro', 'budget', 'god']\n",
      "FrontPage Magazine\n",
      "['abedi', 'palestinian', 'israel', 'lauder', 'ramadan', 'abbas', 'manchester', 'dems', 'terrorists', 'islamic']\n",
      "Humor Times\n",
      "['humortimes', 'modified', 'notified', 'subscribe', 'skinny', 'palin', 'pfd', 'corn', 'letterman', 'via']\n",
      "Infowars\n",
      "['parenthood', 'buzzfeed', 'infowars', 'planned', 'impeachment', 'com', 'deep', 'wikileaks', 'paul', 'students']\n",
      "Intellihub\n",
      "['intellihub', 'uranium', 'seth', 'hanford', 'rich', 'privacy', 'dotcom', 'broadband', 'monsanto', 'nsa']\n",
      "Investors Business Daily\n",
      "['growth', 'puerto', 'rates', 'rico', 'economy', 'rate', 'trillion', 'market', 'tax', 'gdp']\n",
      "Liberty Writers\n",
      "['*', 'everywhere', 'y', 'share', 'patriots', 'benghazi', 'bannon', 'melania', 'swamp', 'lynch']\n",
      "Media Matters for America\n",
      "['17', 'yoest', 'jones', 'sinclair', 'edition', 'cernovich', 'posobiec', 'fraud', 'host', 'fox']\n",
      "MotherJones\n",
      "['vancouver', 'munoz', 'flynn', 'jocelyn', 'abortion', 'says', 'chinese', 'rights', 'justice', 'sessions']\n",
      "National Review\n",
      "['review', 'science', 'e', 'women', 'book', 'culture', 'percent', 'such', 'too', 'should']\n",
      "Natural News\n",
      "['vaccine', 'vaccines', 'herald', 'boston', 'researchers', 'natural', 'plastic', 'brain', 'disease', 'cancer']\n",
      "New York Daily News\n",
      "['cuomo', 'blasio', 'weiner', 'de', 'mayor', 'city', 'ponte', 'friday', 'd', 'york']\n",
      "New York Post\n",
      "['mets', 'yankees', 'game', 'games', 'season', 'runs', 'coach', 'inning', 'innings', 'hit']\n",
      "NewsBiscuit\n",
      "['click', 'fry', 'guest', 'sausage', 'tooth', 'meh', 'fairies', 'blair', 'jeremy', 'manifesto']\n",
      "NewsBusters\n",
      "['prager', 'abc', 'correspondent', 'liberal', 'host', 'cbs', 'media', 'setmayer', 'courage', 'cnn']\n",
      "Newslo\n",
      "['concluded', 'portal', 'knowmyrepublican', 'god', 'everybody', 'm', 'continued', 'coulter', 'argued', 'thing']\n",
      "NPR\n",
      "['npr', 'says', 'schools', 'amaranth', 'reports', 'courage', 'family', 'city', 'students', 'public']\n",
      "Observer\n",
      "['dnc', 'chair', 'schultz', 'wasserman', 'establishment', 'sanders', 'congressman', 'democratic', 'kelly', 'mayor']\n",
      "Occupy Democrats\n",
      "['gorka', 'kushner', 'trumpcare', 'advisor', 'yates', 'yesterday', 'marijuana', 'colbert', 'flynn', 'today']\n",
      "PBS\n",
      "['judy', 'woodruff', 'ban', 'rosenstein', 'william', 'mark', 'trip', 'nato', 'think', 'firing']\n",
      "Politicus USA\n",
      "['scandal', 'trumpcare', 'republicans', 'russia', 'fox', 'special', 'investigation', 'donald', 'gianforte', 'republican']\n",
      "RedState\n",
      "['theory', 'story', 'lee', 'left', 'show', 'network', 'man', '*', 'things', 'today']\n",
      "Real News Right Now\n",
      "['rinaldi', 'robots', 'casino', 'diego', 'lieutenant', 'manufacturing', 'thirty', 'pyongyang', 'weathers', 'spacecraft']\n",
      "Salon\n",
      "['donald', 'care', 'public', 'political', 'republican', 'right', 'party', 'percent', 'u', 'health']\n",
      "The Atlantic\n",
      "['might', 'flynn', 'political', 'democrats', 'national', 'party', 'law', 'most', 'republicans', 'even']\n",
      "The Beaverton\n",
      "['toronto', 'bc', 'beaverton', 'ndp', 'eggs', 'canadian', 'trudeau', 'kinder', 'kay', 'cod']\n",
      "The Conservative Tree House\n",
      "['yea', '♦', 'kingdom', 'thank', 'division', 'check', 'applause', 'thy', 'trade', 'sisi']\n",
      "The D.C. Clothesline\n",
      "['com', 'dr', 'sex', 'children', 'tim', 'dnc', 'author', 'police', 'government', 'helmets']\n",
      "The Daily Beast\n",
      "['beast', 'soviet', 'philby', 'british', 'palestine', 'lehi', 'london', 'jewish', 'zionist', 'irgun']\n",
      "The Daily Caller\n",
      "['caller', 'licensing', 'publisher', 'eligible', 'content', 'protected', 'opportunities', 'foundation', 'original', 'contact']\n",
      "The Duran\n",
      "['zones', 'assange', 'syria', 'turkey', 'escalation', 'putin', 'syrian', 'lavrov', 'de', 'ukraine']\n",
      "The Fiscal Times\n",
      "['related', 'census', 'fiscal', 'payments', 'benefits', 'retirement', 'medicaid', 'billion', 'budget', 'spending']\n",
      "The Gateway Pundit\n",
      "['seth', 'podesta', 'rich', 'anthony', 'weiner', 'murder', 'wikileaks', 'dc', 'reward', 'antifa']\n",
      "The Guardian\n",
      "['healthcare', 'us', 'guardian', 'women', 'fbi', 'committee', 'republican', 'investigation', 'flynn', 'had']\n",
      "The Hill\n",
      "['gop', 'healthcare', 'senators', 'repeal', 'hill', 'obamacare', 'r', 'gianforte', 'lawmakers', 'sen']\n",
      "The Huffington Post\n",
      "['huffpost', 'ivanka', '2017', 'percent', 'donald', 'asian', 'women', 'u', 'care', 'according']\n",
      "The Inquisitr\n",
      "['impeachment', 'bernie', 'carter', 'sanders', 'donald', 'lady', 'melania', 'jimmy', 'barack', 'tom']\n",
      "The New York Times\n",
      "['mr', 'ms', 'b', 'f', 'representative', 'senator', 'c', 'medicaid', 'program', 'republican']\n",
      "The Political Insider\n",
      "['thoughts', 'below', 'share', 'hannity', 'liberal', 'gowdy', 'reilly', 'network', 'fox', 'dam']\n",
      "The Real Strategy\n",
      "['korean', 'nsa', 'collectivism', 'korea', 'establishment', 'nuclear', 'venezuela', 'koreans', 'cuba', 'cia']\n",
      "The Right Scoop\n",
      "['mcmaster', 'https', 'beck', 'ok', 'intel', 'pic', 'co', 'cnn', 'sources', 'fox']\n",
      "The Spoof\n",
      "['calories', 'buggerovski', 'thumb', 'ass', 'patriotism', 'sawyer', 'langley', 'prince', 'geoff', 'calorie']\n",
      "TheBlaze\n",
      "['*', 'students', 'student', 'carlson', 'conway', 'video', 'school', 'explained', 'college', 'friday']\n",
      "ThinkProgress\n",
      "['thinkprogress', 'pipeline', 'farmers', 'energy', 'climate', 'ban', 'systems', 'coal', 'immigrants', 'voting']\n",
      "True Pundit\n",
      "['publisher', 'licensing', 'eligible', 'caller', 'opportunities', 'content', 'protected', 'contact', 'audience', 'foundation']\n",
      "TruthFeed\n",
      "['nerd', 'lover', 'thrones', 'moreno', 'pug', 'amy', 'reach', 'author', 'game', 'colbert']\n",
      "USA Politics Now\n",
      "['mccain', 'liberals', '*', 'share', 'newt', 'watch', 'iran', 'gingrich', 'cash', 'emails']\n",
      "USA Today\n",
      "['iowa', 'abortion', 'gowdy', 'yates', 'courts', 'counsel', 'rosenstein', 'patients', 'committee', 'attorney']\n",
      "Veterans Today\n",
      "['pakistan', 'india', 'syrian', 'iraq', 'afghanistan', 'israeli', 'al', 'steinmetz', 'syria', 'forces']\n",
      "Vox\n",
      "['nixon', 'ahca', 'insurance', 'obamacare', 'drug', 'coverage', 'medicaid', 'health', 'tax', 'vox']\n",
      "Waking Times\n",
      "['consciousness', 'attribution', 'wakingtimes', 'waking', 'awareness', 'cannabis', 'yourself', 'creative', 'universal', 'merck']\n",
      "Washington Examiner\n"
     ]
    },
    {
     "name": "stdout",
     "output_type": "stream",
     "text": [
      "['examiner', 'healthcare', 'r', 'washington', 'sen', 'percent', 'gop', 'senate', 'obamacare', 'secrets']\n",
      "Yahoo News\n",
      "['yahoo', 'photo', 'duterte', 'sen', 'tuesday', 'press', 'r', 'comey', 'spicer', 'wednesday']\n",
      "Young Conservatives\n",
      "['check', 'holt', 'voter', 'testify', 'id', 'memorial', 'devos', 'breaking', 'looks', 'convention']\n",
      "BuzzFeed\n",
      "['espn', 'buzzfeed', 'russo', 'perez', 'jacobs', 'gianforte', 'heritage', 'letters', 'sessions', 'passion']\n",
      "NODISINFO\n",
      "['arch', 'staged', 'wounds', 'purported', 'hoax', 'zionist', 'wound', 'scam', 'moulage', 'imagery']\n",
      "Prntly\n",
      "['yahya', 'tania', 'nordic', 'arabic', 'abu', 'cerantonio', 'denmark', 'caliphate', 'jihadist', 'jihadists']\n",
      "Slate\n",
      "['stephens', 'ahca', 'heritage', 'medicaid', 'mensch', 'caucus', 'macarthur', 'upton', 'cuts', 'cbo']\n",
      "The Burrard Street Journal\n",
      "['neighbour', 'bsj', 'terrific', '45th', 'canada', 'shaking', 'goofball', 'goaded', 'undervaluing', 'amigo']\n",
      "The Borowitz Report\n",
      "['borowitz', 'slamming', 'temp', 'dorrinson', 'spies', 'alert', 'parisian', 'grimange', 'harland', 'klugian']\n",
      "The Shovel\n",
      "['subscribe', 'shovel', 'asio', 'corby', 'morrison', 'instagram', 'sydney', 'melbourne', 'filter', 'treasurer']\n",
      "World News Politics\n",
      "['soll', 'murray', 'donnell', 'liberals', 'msm', 'proclamation', 'burlington', 'newt', 'sean', 'gowdy']\n",
      "Fusion\n",
      "['8217', '8220', '8221', 'wateria', '#', 'renewable', 'glaciers', 'conservation', 'crowe', 'drilling']\n",
      "Hang The Bankers\n",
      "['schweizer', 'marche', 'outsider', 'lurking', 'hollande', 'centrist', 'capitalism', 'en', 'mozart', 'liaison']\n",
      "The Chaser\n",
      "['eurovision', 'sydney', 'whitehouse', 'coffee', 'phillip', 'bathroom', 'millenial', 'orangutans', 'perth', 'zoo']\n",
      "End the Fed\n",
      "['inflated', 'savers', 'postpone', 'correctly', 'bubble', 'artificially', 'educate', 'sachs', 'insolvent', 'goldman']\n",
      "Glossy News\n",
      "['marta', 'bubble', 'ha', 'huh', 'marcus', 'rubes', 'ass', 'charleston', 'adair', 'roared']\n"
     ]
    }
   ],
   "source": [
    "tdf = publisher_metadata.get_term_freq_df()\n",
    "for category in publisher_metadata.get_categories():\n",
    "    print(category)\n",
    "    tdf['score'] = publisher_metadata.get_scaled_f_scores(category)\n",
    "    print(list(tdf.sort_values(by='score', ascending=False).iloc[:10].index))"
   ]
  },
  {
   "cell_type": "code",
   "execution_count": null,
   "metadata": {},
   "outputs": [],
   "source": []
  }
 ],
 "metadata": {
  "kernelspec": {
   "display_name": "Python 3",
   "language": "python",
   "name": "python3"
  },
  "language_info": {
   "codemirror_mode": {
    "name": "ipython",
    "version": 3
   },
   "file_extension": ".py",
   "mimetype": "text/x-python",
   "name": "python",
   "nbconvert_exporter": "python",
   "pygments_lexer": "ipython3",
   "version": "3.7.0"
  }
 },
 "nbformat": 4,
 "nbformat_minor": 2
}
